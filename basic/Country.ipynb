{
 "cells": [
  {
   "cell_type": "code",
   "execution_count": 1,
   "id": "fbaafe31-b67a-47fa-9861-bccdd4139768",
   "metadata": {},
   "outputs": [
    {
     "name": "stdin",
     "output_type": "stream",
     "text": [
      "Enter the name of a country to get its capital:  India\n"
     ]
    },
    {
     "name": "stdout",
     "output_type": "stream",
     "text": [
      "The capital of India is New Delhi\n",
      "\n",
      "List of capitals: ['New Delhi', 'Washington', 'Paris', 'Tokyo']\n",
      "List of countries: ['India', 'USA', 'France', 'Japan']\n",
      "\n",
      "After adding a new country:\n",
      "{'India': 'New Delhi', 'USA': 'Washington', 'France': 'Paris', 'Japan': 'Tokyo', 'Germany': 'Berlin'}\n",
      "\n",
      "List of country:capital pairs:\n",
      "India: New Delhi\n",
      "USA: Washington\n",
      "France: Paris\n",
      "Japan: Tokyo\n",
      "Germany: Berlin\n"
     ]
    }
   ],
   "source": [
    "countries_and_capitals = {\n",
    "    \"India\": \"New Delhi\",\n",
    "    \"USA\": \"Washington\",\n",
    "    \"France\": \"Paris\",\n",
    "    \"Japan\": \"Tokyo\"\n",
    "}\n",
    "\n",
    "country = input(\"Enter the name of a country to get its capital: \")\n",
    "if country in countries_and_capitals:\n",
    "    print(f\"The capital of {country} is {countries_and_capitals[country]}\")\n",
    "else:\n",
    "    print(f\"{country} is not in the list.\")\n",
    "\n",
    "print(\"\\nList of capitals:\", list(countries_and_capitals.values()))\n",
    "print(\"List of countries:\", list(countries_and_capitals.keys()))\n",
    "\n",
    "countries_and_capitals[\"Germany\"] = \"Berlin\"\n",
    "print(\"\\nAfter adding a new country:\")\n",
    "print(countries_and_capitals)\n",
    "\n",
    "print(\"\\nList of country:capital pairs:\")\n",
    "for country, capital in countries_and_capitals.items():\n",
    "    print(f\"{country}: {capital}\")"
   ]
  },
  {
   "cell_type": "code",
   "execution_count": null,
   "id": "060e70ea-bcb1-42af-a471-df8b2ed2d875",
   "metadata": {},
   "outputs": [],
   "source": []
  }
 ],
 "metadata": {
  "kernelspec": {
   "display_name": "Python 3 (ipykernel)",
   "language": "python",
   "name": "python3"
  },
  "language_info": {
   "codemirror_mode": {
    "name": "ipython",
    "version": 3
   },
   "file_extension": ".py",
   "mimetype": "text/x-python",
   "name": "python",
   "nbconvert_exporter": "python",
   "pygments_lexer": "ipython3",
   "version": "3.10.10"
  }
 },
 "nbformat": 4,
 "nbformat_minor": 5
}
