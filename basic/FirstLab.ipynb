{
 "cells": [
  {
   "cell_type": "code",
   "execution_count": 1,
   "id": "12ec8f4f-e2f6-40ef-b3a2-34f3bd616650",
   "metadata": {},
   "outputs": [
    {
     "name": "stdout",
     "output_type": "stream",
     "text": [
      "30\n"
     ]
    }
   ],
   "source": [
    "num1 = 10\n",
    "num2 = 20\n",
    "print(num1+num2)"
   ]
  },
  {
   "cell_type": "code",
   "execution_count": null,
   "id": "b76ed1cf-6239-48ec-b729-1617ec2e45a0",
   "metadata": {},
   "outputs": [],
   "source": [
    "fact = 1\n",
    "num = int(input('Enter a Number - '))\n",
    "if num < 0:\n",
    "    print(\"Wrong Inupt\")\n",
    "    exit(0)\n",
    "elif num == 0 or num == 1:\n",
    "    fact = 1 \n",
    "else:\n",
    "    for i in range(1,num+1):\n",
    "        fact = fact * i;\n",
    "print('Fact of ',num,' = ',fact)"
   ]
  }
 ],
 "metadata": {
  "kernelspec": {
   "display_name": "Python 3 (ipykernel)",
   "language": "python",
   "name": "python3"
  },
  "language_info": {
   "codemirror_mode": {
    "name": "ipython",
    "version": 3
   },
   "file_extension": ".py",
   "mimetype": "text/x-python",
   "name": "python",
   "nbconvert_exporter": "python",
   "pygments_lexer": "ipython3",
   "version": "3.10.10"
  }
 },
 "nbformat": 4,
 "nbformat_minor": 5
}
