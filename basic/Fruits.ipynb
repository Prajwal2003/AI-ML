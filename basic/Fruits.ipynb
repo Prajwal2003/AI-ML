{
 "cells": [
  {
   "cell_type": "code",
   "execution_count": 21,
   "id": "4571a48b-756a-4a46-b72b-38931e5db9a6",
   "metadata": {},
   "outputs": [
    {
     "name": "stdout",
     "output_type": "stream",
     "text": [
      "banana\n",
      "ornge\n",
      "kiwi\n",
      "----------------\n",
      "apple\n",
      "banana\n"
     ]
    }
   ],
   "source": [
    "import re\n",
    "\n",
    "fruits = ['apple','banana','ornge',\"kiwi\"]\n",
    "listwitha = \"apple\" not in fruits\n",
    "for i in fruits:\n",
    "    if i != \"apple\":\n",
    "        print(i)\n",
    "print(\"----------------\")\n",
    "pattern = \"a\"\n",
    "for i in fruits:\n",
    "    if re.search(pattern, i):\n",
    "        print(i)"
   ]
  },
  {
   "cell_type": "code",
   "execution_count": null,
   "id": "0e38e445-b5d3-4150-ad70-13c62d26ebab",
   "metadata": {},
   "outputs": [],
   "source": []
  }
 ],
 "metadata": {
  "kernelspec": {
   "display_name": "Python 3 (ipykernel)",
   "language": "python",
   "name": "python3"
  },
  "language_info": {
   "codemirror_mode": {
    "name": "ipython",
    "version": 3
   },
   "file_extension": ".py",
   "mimetype": "text/x-python",
   "name": "python",
   "nbconvert_exporter": "python",
   "pygments_lexer": "ipython3",
   "version": "3.10.10"
  }
 },
 "nbformat": 4,
 "nbformat_minor": 5
}
