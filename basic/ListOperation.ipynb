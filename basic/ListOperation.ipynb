{
 "cells": [
  {
   "cell_type": "code",
   "execution_count": 40,
   "id": "bcbb5afc-90ca-4ffd-b6cc-50709cf229f6",
   "metadata": {},
   "outputs": [
    {
     "name": "stdout",
     "output_type": "stream",
     "text": [
      "[26, 50, 68, 34, 47, 10, 44, 53, 84, 87]\n",
      "[49, 23, 100, 71, 57, 21, 79, 43, 35, 36]\n",
      "[26, 50, 68, 34, 10, 44, 84, 28, 6, 40]\n",
      "[0, 1, 6, 6, 7, 9, 9, 10, 12, 13]\n",
      "[100, 99, 97, 94, 93, 92, 92, 89, 89, 89]\n",
      "<class 'int'>\n",
      "<class 'int'>\n",
      "<class 'int'>\n",
      "<class 'int'>\n",
      "found\n",
      "10\n",
      "[10]\n"
     ]
    }
   ],
   "source": [
    "import random\n",
    "randomlist  = []\n",
    "for i in range(0,100):\n",
    "    num = random.randint(0,100)\n",
    "    randomlist.append(num)\n",
    "\n",
    "print(randomlist[0:10])\n",
    "print(randomlist[-10:])\n",
    "evenlist= []\n",
    "for x in randomlist:\n",
    "    if x % 2 == 0:\n",
    "        evenlist.append(x)\n",
    "print(evenlist[0:10])\n",
    "randomlist.sort()\n",
    "print(randomlist[0:10])\n",
    "randomlist.sort(reverse=True)\n",
    "print(randomlist[0:10])\n",
    "for i,x in enumerate(randomlist):\n",
    "    print(type(x))\n",
    "    if i > 2:\n",
    "        break\n",
    "for x in randomlist:\n",
    "    if x == 10:\n",
    "        print(\"found\")\n",
    "randomlist.insert(0,10)\n",
    "print(randomlist[0])\n",
    "randomlist.append(10)\n",
    "print(randomlist[-1:])"
   ]
  },
  {
   "cell_type": "code",
   "execution_count": null,
   "id": "efb6dd36-86ba-476a-967f-65491fa83f4a",
   "metadata": {},
   "outputs": [],
   "source": []
  },
  {
   "cell_type": "code",
   "execution_count": null,
   "id": "1026a5fa-995b-4f34-9611-c2ea63c443ea",
   "metadata": {},
   "outputs": [],
   "source": []
  }
 ],
 "metadata": {
  "kernelspec": {
   "display_name": "Python 3 (ipykernel)",
   "language": "python",
   "name": "python3"
  },
  "language_info": {
   "codemirror_mode": {
    "name": "ipython",
    "version": 3
   },
   "file_extension": ".py",
   "mimetype": "text/x-python",
   "name": "python",
   "nbconvert_exporter": "python",
   "pygments_lexer": "ipython3",
   "version": "3.10.10"
  }
 },
 "nbformat": 4,
 "nbformat_minor": 5
}
