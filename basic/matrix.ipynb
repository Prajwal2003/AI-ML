{
 "cells": [
  {
   "cell_type": "code",
   "execution_count": 1,
   "id": "cd53a344-1f67-4145-b1e0-90284f32d576",
   "metadata": {},
   "outputs": [
    {
     "name": "stdout",
     "output_type": "stream",
     "text": [
      "Matrix addition using for loop:\n",
      "[10, 10, 10]\n",
      "[10, 10, 10]\n",
      "[10, 10, 10]\n",
      "\n",
      "Matrix after subtraction (matrix_a - matrix_b):\n",
      "[-8, -6, -4]\n",
      "[-2, 0, 2]\n",
      "[4, 6, 8]\n"
     ]
    }
   ],
   "source": [
    "matrix_a = [\n",
    "    [1, 2, 3],\n",
    "    [4, 5, 6],\n",
    "    [7, 8, 9]\n",
    "]\n",
    "\n",
    "matrix_b = [\n",
    "    [9, 8, 7],\n",
    "    [6, 5, 4],\n",
    "    [3, 2, 1]\n",
    "]\n",
    "\n",
    "matrix_sum = []\n",
    "\n",
    "for i in range(len(matrix_a)):\n",
    "    row = []\n",
    "    for j in range(len(matrix_a[0])):\n",
    "        row.append(matrix_a[i][j] + matrix_b[i][j])\n",
    "    matrix_sum.append(row)\n",
    "\n",
    "print(\"Matrix addition using for loop:\")\n",
    "for row in matrix_sum:\n",
    "    print(row)\n",
    "\n",
    "matrix_subtraction = [[matrix_a[i][j] - matrix_b[i][j] for j in range(len(matrix_a[0]))] for i in range(len(matrix_a))]\n",
    "\n",
    "print(\"\\nMatrix after subtraction (matrix_a - matrix_b):\")\n",
    "for row in matrix_subtraction:\n",
    "    print(row)"
   ]
  },
  {
   "cell_type": "code",
   "execution_count": null,
   "id": "771833ae-4fb1-4922-b517-bc3b70270d37",
   "metadata": {},
   "outputs": [],
   "source": []
  }
 ],
 "metadata": {
  "kernelspec": {
   "display_name": "Python 3 (ipykernel)",
   "language": "python",
   "name": "python3"
  },
  "language_info": {
   "codemirror_mode": {
    "name": "ipython",
    "version": 3
   },
   "file_extension": ".py",
   "mimetype": "text/x-python",
   "name": "python",
   "nbconvert_exporter": "python",
   "pygments_lexer": "ipython3",
   "version": "3.10.10"
  }
 },
 "nbformat": 4,
 "nbformat_minor": 5
}
