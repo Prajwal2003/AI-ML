{
 "cells": [
  {
   "cell_type": "code",
   "execution_count": 30,
   "id": "0c072323-d8bb-4cd2-9360-a1963c38a204",
   "metadata": {},
   "outputs": [
    {
     "name": "stdin",
     "output_type": "stream",
     "text": [
      "Enter a number :  20\n"
     ]
    },
    {
     "name": "stdout",
     "output_type": "stream",
     "text": [
      "[2, 3, 5, 7, 11, 13, 17, 19]\n"
     ]
    }
   ],
   "source": [
    "def isprimenum(x):\n",
    "    y = 0\n",
    "    if x == 2 or x == 3:\n",
    "        return 2\n",
    "    for i in range(1,x+1):\n",
    "        if( x%i == 0):\n",
    "            y = y + 1\n",
    "    return y\n",
    "\n",
    "x = int(input(\"Enter a number : \"))\n",
    "primelist = []\n",
    "for i in range(2,x+1):\n",
    "    ret = isprimenum(i)\n",
    "    if ret == 2:\n",
    "        primelist.append(i)\n",
    "\n",
    "print(primelist)"
   ]
  },
  {
   "cell_type": "raw",
   "id": "b376b4c2-e3f0-4d63-9e30-66edcda021de",
   "metadata": {},
   "source": []
  },
  {
   "cell_type": "code",
   "execution_count": 1,
   "id": "b923d33f-53e5-41ca-ba3f-eb64c4c78c01",
   "metadata": {},
   "outputs": [
    {
     "name": "stdin",
     "output_type": "stream",
     "text": [
      "Lower Bound :  5\n",
      "Upper Bound :  10\n"
     ]
    },
    {
     "name": "stdout",
     "output_type": "stream",
     "text": [
      "[5, 7]\n"
     ]
    }
   ],
   "source": [
    "def isprimenum(x):\n",
    "    y = 0\n",
    "    if x == 2 or x == 3:\n",
    "        return 2\n",
    "    for i in range(1,x+1):\n",
    "        if( x%i == 0):\n",
    "            y = y + 1\n",
    "    return y\n",
    "\n",
    "w = int(input(\"Lower Bound : \"))\n",
    "x = int(input(\"Upper Bound : \"))\n",
    "primelist = []\n",
    "for i in range(w,x+1):\n",
    "    ret = isprimenum(i)\n",
    "    if ret == 2:\n",
    "        primelist.append(i)\n",
    "\n",
    "print(primelist)"
   ]
  },
  {
   "cell_type": "code",
   "execution_count": null,
   "id": "cb3060fc-9f1f-4b57-8b99-fa840b2e36f8",
   "metadata": {},
   "outputs": [],
   "source": []
  }
 ],
 "metadata": {
  "kernelspec": {
   "display_name": "Python 3 (ipykernel)",
   "language": "python",
   "name": "python3"
  },
  "language_info": {
   "codemirror_mode": {
    "name": "ipython",
    "version": 3
   },
   "file_extension": ".py",
   "mimetype": "text/x-python",
   "name": "python",
   "nbconvert_exporter": "python",
   "pygments_lexer": "ipython3",
   "version": "3.10.10"
  }
 },
 "nbformat": 4,
 "nbformat_minor": 5
}
