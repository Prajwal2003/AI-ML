{
 "cells": [
  {
   "cell_type": "code",
   "execution_count": 2,
   "id": "9459e82a-134d-431c-85ab-39df0e4b0349",
   "metadata": {},
   "outputs": [
    {
     "name": "stdout",
     "output_type": "stream",
     "text": [
      "The name of the second student is: CRS\n"
     ]
    }
   ],
   "source": [
    "students = {\n",
    "    \"student_1\": {\n",
    "        \"name\": \"PGH\",\n",
    "        \"usn\": \"CS063\",\n",
    "        \"year_of_passing\": 2025\n",
    "    },\n",
    "    \"student_2\": {\n",
    "        \"name\": \"PMG\",\n",
    "        \"usn\": \"CS068\",\n",
    "        \"year_of_passing\": 2025\n",
    "    },\n",
    "    \"student_3\": {\n",
    "        \"name\": \"CRS\",\n",
    "        \"usn\": \"CS027\",\n",
    "        \"year_of_passing\": 2025\n",
    "    }\n",
    "}\n",
    "\n",
    "print(\"The name of the second student is:\", students[\"student_3\"][\"name\"])"
   ]
  },
  {
   "cell_type": "code",
   "execution_count": null,
   "id": "8a5632b6-cc5a-470f-ab52-3324c782d433",
   "metadata": {},
   "outputs": [],
   "source": []
  }
 ],
 "metadata": {
  "kernelspec": {
   "display_name": "Python 3 (ipykernel)",
   "language": "python",
   "name": "python3"
  },
  "language_info": {
   "codemirror_mode": {
    "name": "ipython",
    "version": 3
   },
   "file_extension": ".py",
   "mimetype": "text/x-python",
   "name": "python",
   "nbconvert_exporter": "python",
   "pygments_lexer": "ipython3",
   "version": "3.10.10"
  }
 },
 "nbformat": 4,
 "nbformat_minor": 5
}
