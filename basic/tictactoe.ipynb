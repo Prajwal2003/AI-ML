{
 "cells": [
  {
   "cell_type": "code",
   "execution_count": null,
   "id": "5d06edb1-41af-46dc-941e-ed639289ea75",
   "metadata": {},
   "outputs": [
    {
     "name": "stdout",
     "output_type": "stream",
     "text": [
      "\n",
      "\n",
      "  |   |  \n",
      "----------\n",
      "  |   |  \n",
      "----------\n",
      "  |   |  \n",
      "\n",
      "\n"
     ]
    },
    {
     "name": "stdin",
     "output_type": "stream",
     "text": [
      "Player Y, enter row (0, 1, 2):  1\n",
      "Player Y, enter column (0, 1, 2):  1\n"
     ]
    },
    {
     "name": "stdout",
     "output_type": "stream",
     "text": [
      "\n",
      "\n",
      "  |   |  \n",
      "----------\n",
      "  | Y |  \n",
      "----------\n",
      "  |   |  \n",
      "\n",
      "\n"
     ]
    }
   ],
   "source": [
    "def print_board(board):\n",
    "    print(\"\\n\")\n",
    "    for i,row in enumerate(board):\n",
    "        print(\" | \".join(row))\n",
    "        if (i != 2):\n",
    "            print(\"--\" * 5)\n",
    "    print(\"\\n\")\n",
    "\n",
    "\n",
    "def check_winner(board, player):\n",
    "    for row in board:\n",
    "        if all([spot == player for spot in row]):\n",
    "            return True\n",
    "    \n",
    "    for col in range(3):\n",
    "        if all([board[row][col] == player for row in range(3)]):\n",
    "            return True\n",
    "\n",
    "    if board[0][0] == board[1][1] == board[2][2] == player:\n",
    "        return True\n",
    "    if board[0][2] == board[1][1] == board[2][0] == player:\n",
    "        return True\n",
    "\n",
    "    return False\n",
    "\n",
    "\n",
    "def check_draw(board):\n",
    "    return all([spot != \" \" for row in board for spot in row])\n",
    "\n",
    "\n",
    "def play_game():\n",
    "    board = [[\" \" for _ in range(3)] for _ in range(3)]\n",
    "    current_player = \"Y\"\n",
    "\n",
    "    print_board(board)\n",
    "\n",
    "    while True:\n",
    "        try:\n",
    "            row = int(input(f\"Player {current_player}, enter row (0, 1, 2): \"))\n",
    "            col = int(input(f\"Player {current_player}, enter column (0, 1, 2): \"))\n",
    "        except ValueError:\n",
    "            print(\"Invalid input. Please enter a number between 0 and 2.\")\n",
    "            continue\n",
    "\n",
    "        if row not in range(3) or col not in range(3):\n",
    "            print(\"Invalid input. Please enter a number between 0 and 2.\")\n",
    "            continue\n",
    "\n",
    "        if board[row][col] != \" \":\n",
    "            print(\"Spot already taken. Try again.\")\n",
    "            continue\n",
    "\n",
    "        board[row][col] = current_player\n",
    "        print_board(board)\n",
    "\n",
    "        if check_winner(board, current_player):\n",
    "            print(f\"Player {current_player} wins!\")\n",
    "            break\n",
    "\n",
    "        if check_draw(board):\n",
    "            print(\"It's a draw!\")\n",
    "            break\n",
    "\n",
    "        current_player = \"O\" if current_player == \"X\" else \"X\"\n",
    "\n",
    "if __name__ == \"__main__\":\n",
    "    play_game()"
   ]
  },
  {
   "cell_type": "code",
   "execution_count": null,
   "id": "df8d392a-02bd-4f10-9c43-f32a6fd1566d",
   "metadata": {},
   "outputs": [],
   "source": []
  }
 ],
 "metadata": {
  "kernelspec": {
   "display_name": "Python 3 (ipykernel)",
   "language": "python",
   "name": "python3"
  },
  "language_info": {
   "codemirror_mode": {
    "name": "ipython",
    "version": 3
   },
   "file_extension": ".py",
   "mimetype": "text/x-python",
   "name": "python",
   "nbconvert_exporter": "python",
   "pygments_lexer": "ipython3",
   "version": "3.10.10"
  }
 },
 "nbformat": 4,
 "nbformat_minor": 5
}
