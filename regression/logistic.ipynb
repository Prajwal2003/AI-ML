{
 "cells": [
  {
   "cell_type": "code",
   "execution_count": 1,
   "id": "4a5cd2fd-7299-4223-993b-f4b848a60b4a",
   "metadata": {
    "editable": true,
    "slideshow": {
     "slide_type": ""
    },
    "tags": []
   },
   "outputs": [
    {
     "name": "stdin",
     "output_type": "stream",
     "text": [
      " user input: \n",
      "1 : Hours Studied \n",
      "2 : Pass Probability  1\n",
      "Hours studies :  33\n"
     ]
    },
    {
     "name": "stdout",
     "output_type": "stream",
     "text": [
      "p = 0.88\n",
      "Pass Probability = 88.08%\n"
     ]
    }
   ],
   "source": [
    "import math\n",
    "hours = {\"29\" : \"0\",\"15\" : \"0\",\"33\" : \"1\",\"28\" : \"1\",\"39\" : \"1\"}\n",
    "e = math.e\n",
    "option = input(\" user input: \\n1 : Hours Studied \\n2 : Pass Probability \")\n",
    "if(option == \"1\"):\n",
    "    hour = input(\"Hours studies : \")\n",
    "    z = -64 + (2 * int(hour))\n",
    "    p = 1/(1+pow(e, -z))\n",
    "    print(\"p = \" + str(round(p,2)))\n",
    "    p = p * 100\n",
    "    print(\"Pass Probability = \" + str(round(p,2)) + \"%\")\n",
    "elif(option == \"2\"):\n",
    "    p = input(\"Pass probability : \")\n",
    "    p = int(p) / 100\n",
    "    x = (1 - p) / p\n",
    "    z =  math.log(x)\n",
    "    z = -z\n",
    "    print(\"z = \" + str(round(z,2)))\n",
    "    hour = (z+64) / 2 \n",
    "    print(\"Hours required to pass = \" + str(round(hour,2)))\n",
    "else:\n",
    "    print(\"Wrong Option\")\n"
   ]
  },
  {
   "cell_type": "code",
   "execution_count": null,
   "id": "3ad865b4-334b-41c3-be4a-a01af0815ac4",
   "metadata": {},
   "outputs": [],
   "source": []
  }
 ],
 "metadata": {
  "kernelspec": {
   "display_name": "Python 3 (ipykernel)",
   "language": "python",
   "name": "python3"
  },
  "language_info": {
   "codemirror_mode": {
    "name": "ipython",
    "version": 3
   },
   "file_extension": ".py",
   "mimetype": "text/x-python",
   "name": "python",
   "nbconvert_exporter": "python",
   "pygments_lexer": "ipython3",
   "version": "3.10.10"
  }
 },
 "nbformat": 4,
 "nbformat_minor": 5
}
