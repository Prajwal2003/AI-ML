{
 "cells": [
  {
   "cell_type": "code",
   "execution_count": 1,
   "id": "aacb4c76-5151-4144-8081-862bdf415615",
   "metadata": {},
   "outputs": [
    {
     "name": "stdout",
     "output_type": "stream",
     "text": [
      "Coefficients:\n",
      "a0 = -0.7500000000001421\n",
      "a1 = 0.9500000000000441\n",
      "a2 = 0.7499999999999973\n"
     ]
    }
   ],
   "source": [
    "import numpy as np\n",
    "\n",
    "x = np.array([1, 2, 3, 4])\n",
    "y = np.array([1, 4, 9, 15])\n",
    "\n",
    "sum_x = np.sum(x)                     \n",
    "sum_y = np.sum(y)                    \n",
    "sum_xy = np.sum(x * y)              \n",
    "sum_x2 = np.sum(x**2)                \n",
    "sum_x2y = np.sum(x**2 * y)           \n",
    "sum_x3 = np.sum(x**3)               \n",
    "sum_x4 = np.sum(x**4)              \n",
    "\n",
    "n = len(x)\n",
    "X = np.array([[n, sum_x, sum_x2],\n",
    "              [sum_x, sum_x2, sum_x3],\n",
    "              [sum_x2, sum_x3, sum_x4]])\n",
    "\n",
    "B = np.array([[sum_y],\n",
    "              [sum_xy],\n",
    "              [sum_x2y]])\n",
    "\n",
    "a = np.linalg.inv(X).dot(B)\n",
    "\n",
    "print(\"Coefficients:\")\n",
    "print(\"a0 =\", a[0, 0])\n",
    "print(\"a1 =\", a[1, 0])\n",
    "print(\"a2 =\", a[2, 0])"
   ]
  },
  {
   "cell_type": "code",
   "execution_count": null,
   "id": "b64282f3-f702-470e-8864-9d595bfb9d35",
   "metadata": {},
   "outputs": [],
   "source": []
  },
  {
   "cell_type": "code",
   "execution_count": null,
   "id": "cda73840-e67e-4a46-89dd-cb6743bb59db",
   "metadata": {},
   "outputs": [],
   "source": []
  }
 ],
 "metadata": {
  "kernelspec": {
   "display_name": "Python 3 (ipykernel)",
   "language": "python",
   "name": "python3"
  },
  "language_info": {
   "codemirror_mode": {
    "name": "ipython",
    "version": 3
   },
   "file_extension": ".py",
   "mimetype": "text/x-python",
   "name": "python",
   "nbconvert_exporter": "python",
   "pygments_lexer": "ipython3",
   "version": "3.10.10"
  }
 },
 "nbformat": 4,
 "nbformat_minor": 5
}
